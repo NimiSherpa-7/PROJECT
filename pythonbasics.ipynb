{
 "cells": [
  {
   "cell_type": "markdown",
   "id": "bed9b0a8-b042-488a-ae23-1a7e49c6408a",
   "metadata": {},
   "source": [
    "# Basics in python\n",
    "## INPUT and OUTPUT"
   ]
  },
  {
   "cell_type": "code",
   "execution_count": 10,
   "id": "bfd56bdb-dcc0-4698-bebd-fae97b1731c1",
   "metadata": {},
   "outputs": [
    {
     "name": "stdout",
     "output_type": "stream",
     "text": [
      "BOB\n"
     ]
    }
   ],
   "source": [
    "#single variable\n",
    "s=\"BOB\"\n",
    "print(s)"
   ]
  },
  {
   "cell_type": "code",
   "execution_count": 14,
   "id": "da0100f6-2545-450d-8214-0d9324abb49d",
   "metadata": {},
   "outputs": [
    {
     "name": "stdout",
     "output_type": "stream",
     "text": [
      "1 kathmandu\n"
     ]
    }
   ],
   "source": [
    "#multiple variable\n",
    "n=1\n",
    "city=\"kathmandu\"\n",
    "print(n,city)"
   ]
  },
  {
   "cell_type": "code",
   "execution_count": 15,
   "id": "6dd646c7-6871-47f2-8257-3a99217de8af",
   "metadata": {},
   "outputs": [
    {
     "name": "stdout",
     "output_type": "stream",
     "text": [
      "Amount: $88000.00\n"
     ]
    }
   ],
   "source": [
    "#output formatting\n",
    "amount = 88000\n",
    "print(\"Amount: ${:.2f}\".format(amount))"
   ]
  },
  {
   "cell_type": "code",
   "execution_count": 17,
   "id": "090e01e1-5328-4cfd-ad91-c7a2ff9c5759",
   "metadata": {},
   "outputs": [
    {
     "name": "stdout",
     "output_type": "stream",
     "text": [
      "hello@Texas\n",
      "hello\n",
      "Texas\n"
     ]
    }
   ],
   "source": [
    "#end with @parameter\n",
    "print(\"hello\",end=\"@\")\n",
    "print(\"Texas\")\n",
    "#end without @parameter\n",
    "print(\"hello\")\n",
    "print(\"Texas\")"
   ]
  },
  {
   "cell_type": "code",
   "execution_count": 42,
   "id": "f5532108-d4e4-40da-ac67-fac13217f2fc",
   "metadata": {},
   "outputs": [
    {
     "name": "stdout",
     "output_type": "stream",
     "text": [
      "H.E.L.L.O\n",
      "Date:/2062/11/11\n"
     ]
    }
   ],
   "source": [
    "#separation with comma\n",
    "print('H','E','L','L','O', sep=\".\")\n",
    "#1) used in date formatting\n",
    "print( \"Date:\",'2062','11','11', sep=\"/\")"
   ]
  },
  {
   "cell_type": "code",
   "execution_count": 27,
   "id": "3f45e938-ea75-4811-96b1-5189069d8137",
   "metadata": {},
   "outputs": [
    {
     "name": "stdout",
     "output_type": "stream",
     "text": [
      "The name is Nimi and age is 19\n"
     ]
    }
   ],
   "source": [
    "#fstring\n",
    "name=\"Nimi\"\n",
    "age=19\n",
    "print(f\"The name is {name} and age is {age}\")\n"
   ]
  },
  {
   "cell_type": "markdown",
   "id": "a47ad7a2-caa3-4aa0-b965-ac20e7b6bce1",
   "metadata": {},
   "source": [
    "# FORMAT SPECIFIER\n",
    "- %f -float\n",
    "- %s -string\n",
    "- %x -hexa\n",
    "- %o -octa"
   ]
  },
  {
   "cell_type": "code",
   "execution_count": 44,
   "id": "8eddaf8b-ca3b-4c8e-8640-b8c3ca883ce3",
   "metadata": {},
   "outputs": [
    {
     "name": "stdin",
     "output_type": "stream",
     "text": [
      "\tEnter value 2\n"
     ]
    },
    {
     "name": "stdout",
     "output_type": "stream",
     "text": [
      " the value is  2\n"
     ]
    },
    {
     "name": "stdin",
     "output_type": "stream",
     "text": [
      "ENTER NUMBER 3\n"
     ]
    },
    {
     "name": "stdout",
     "output_type": "stream",
     "text": [
      "<class 'int'>\n",
      "The value is  3\n"
     ]
    }
   ],
   "source": [
    "#taking value from user\n",
    "num=input(\"\\tEnter value\")\n",
    "print(\" the value is \",num)\n",
    "\n",
    "# for this we use typecasting\n",
    "newnum=int(num)\n",
    "num2=int(input(\"ENTER NUMBER\"))\n",
    "print(type(newnum))\n",
    "print(\"The value is \", num2)"
   ]
  },
  {
   "cell_type": "code",
   "execution_count": 48,
   "id": "b397cfe1-21ee-4af4-98d8-c3604de87239",
   "metadata": {},
   "outputs": [
    {
     "name": "stdin",
     "output_type": "stream",
     "text": [
      "Enter the values: 2 2 3\n"
     ]
    },
    {
     "name": "stdout",
     "output_type": "stream",
     "text": [
      "total no. of students 2\n",
      "total no. of boys 2\n",
      "total no. of girls 3\n"
     ]
    }
   ],
   "source": [
    "#for multiple inputs\n",
    "x,y,z = input(\"Enter the values:\").split()\n",
    "            \n",
    "print(\"total no. of students\",x)\n",
    "print(\"total no. of boys\",y)\n",
    "print(\"total no. of girls\",z)"
   ]
  },
  {
   "cell_type": "code",
   "execution_count": 53,
   "id": "c15d790e-4458-475c-b845-676296fe22c0",
   "metadata": {},
   "outputs": [
    {
     "name": "stdin",
     "output_type": "stream",
     "text": [
      "Enter the age :  44\n"
     ]
    },
    {
     "name": "stdout",
     "output_type": "stream",
     "text": [
      "working age\n"
     ]
    }
   ],
   "source": [
    "#conditional input using ladder case\n",
    "age_input =  input(\"Enter the age : \")\n",
    "age = int(age_input)\n",
    "if age<0:\n",
    "    print(\"age cannot be negative\")\n",
    "elif age<=16:\n",
    "    print(\"minor age\")\n",
    "elif age>=18 and age<=60:\n",
    "    print(\"working age\")\n",
    "else:\n",
    "    print(\"old age\")"
   ]
  },
  {
   "cell_type": "code",
   "execution_count": 55,
   "id": "6716830a-bbcf-4c3a-ae8f-882ff61d23ef",
   "metadata": {},
   "outputs": [
    {
     "name": "stdin",
     "output_type": "stream",
     "text": [
      "enter your name Nimi Sherpa\n"
     ]
    },
    {
     "name": "stdout",
     "output_type": "stream",
     "text": [
      "Name:  Nimi Sherpa from: Nepal\n"
     ]
    }
   ],
   "source": [
    "#taking input in python\n",
    "name= input(\"enter your name\")\n",
    "print(\"Name: \",name, \"from: Nepal\")"
   ]
  },
  {
   "cell_type": "code",
   "execution_count": 58,
   "id": "34f63ceb-22b2-4b6c-a853-924ae7ea0d80",
   "metadata": {},
   "outputs": [
    {
     "name": "stdin",
     "output_type": "stream",
     "text": [
      "What color is rose? white\n"
     ]
    },
    {
     "name": "stdout",
     "output_type": "stream",
     "text": [
      "white\n"
     ]
    },
    {
     "name": "stdin",
     "output_type": "stream",
     "text": [
      "number of rose? 3\n"
     ]
    },
    {
     "name": "stdout",
     "output_type": "stream",
     "text": [
      "3\n"
     ]
    },
    {
     "name": "stdin",
     "output_type": "stream",
     "text": [
      "price of rose? 333\n"
     ]
    },
    {
     "name": "stdout",
     "output_type": "stream",
     "text": [
      "333\n"
     ]
    }
   ],
   "source": [
    "# type casting\n",
    "color =  input(\"What color is rose?\")\n",
    "print(color)\n",
    "n=int(input(\"number of rose?\"))\n",
    "print(n)\n",
    "Price=int(input(\"price of rose?\"))\n",
    "print(Price)"
   ]
  },
  {
   "cell_type": "code",
   "execution_count": 59,
   "id": "b127ad34-93df-4934-a9c3-3ab31adb883f",
   "metadata": {},
   "outputs": [
    {
     "name": "stdout",
     "output_type": "stream",
     "text": [
      "<class 'int'>\n",
      "<class 'float'>\n",
      "<class 'str'>\n",
      "<class 'tuple'>\n",
      "<class 'list'>\n",
      "<class 'dict'>\n"
     ]
    }
   ],
   "source": [
    "#data types in python\n",
    "a=15\n",
    "b=12.22\n",
    "c=\"hello\"\n",
    "d=(\"code\",\"with\",\"interest\")\n",
    "e=[\"code\",\"with\",\"python\"]\n",
    "f={\"Name\":\"sita\",\"python\":\"professionalclass\"}\n",
    "print(type(a))\n",
    "print(type(b))\n",
    "print(type(c))\n",
    "print(type(d))\n",
    "print(type(e))\n",
    "print(type(f))"
   ]
  },
  {
   "cell_type": "code",
   "execution_count": 1,
   "id": "8ef71ab7-cf37-42cd-8535-685238f72868",
   "metadata": {},
   "outputs": [
    {
     "data": {
      "text/plain": [
       "10"
      ]
     },
     "execution_count": 1,
     "metadata": {},
     "output_type": "execute_result"
    }
   ],
   "source": [
    "#variables in python\n",
    "a=10\n",
    "a"
   ]
  },
  {
   "cell_type": "code",
   "execution_count": 5,
   "id": "fa52fb37-476e-4843-86ef-403419e6e746",
   "metadata": {},
   "outputs": [
    {
     "name": "stdout",
     "output_type": "stream",
     "text": [
      "scope local\n"
     ]
    },
    {
     "ename": "NameError",
     "evalue": "name 'k' is not defined",
     "output_type": "error",
     "traceback": [
      "\u001b[1;31m---------------------------------------------------------------------------\u001b[0m",
      "\u001b[1;31mNameError\u001b[0m                                 Traceback (most recent call last)",
      "Cell \u001b[1;32mIn[5], line 7\u001b[0m\n\u001b[0;32m      5\u001b[0m     \u001b[38;5;28mprint\u001b[39m(k)\n\u001b[0;32m      6\u001b[0m fun()\n\u001b[1;32m----> 7\u001b[0m \u001b[38;5;28mprint\u001b[39m(k)\n",
      "\u001b[1;31mNameError\u001b[0m: name 'k' is not defined"
     ]
    }
   ],
   "source": [
    "#variables in python\n",
    "#local and global variable \n",
    "def fun():\n",
    "    k=\"scope local\"\n",
    "    print(k)\n",
    "fun()\n",
    "print(k)"
   ]
  },
  {
   "cell_type": "code",
   "execution_count": 9,
   "id": "7d95c5fc-d405-4ba5-8f19-973da89dd924",
   "metadata": {},
   "outputs": [
    {
     "name": "stdout",
     "output_type": "stream",
     "text": [
      " local scope\n",
      " local scope\n"
     ]
    }
   ],
   "source": [
    "k=\"i am a global scope\"\n",
    "def f():\n",
    "    global k# used to make local variable into global\n",
    "    k=\" local scope\"\n",
    "    print(k)\n",
    "f()\n",
    "print(k)"
   ]
  },
  {
   "cell_type": "code",
   "execution_count": 15,
   "id": "20bb70c3-45ec-42f1-9932-46a82c7d243b",
   "metadata": {},
   "outputs": [
    {
     "name": "stdout",
     "output_type": "stream",
     "text": [
      "10\n"
     ]
    }
   ],
   "source": [
    "#for delete-del keyword\n",
    "p=10\n",
    "print(p)\n",
    "del p\n",
    "\n"
   ]
  },
  {
   "cell_type": "code",
   "execution_count": 18,
   "id": "8bbce2bc-b74c-420b-8db7-f7c74e07d845",
   "metadata": {},
   "outputs": [
    {
     "name": "stdout",
     "output_type": "stream",
     "text": [
      "10 20\n",
      "20 10\n"
     ]
    }
   ],
   "source": [
    "#swapping of variables-2\n",
    "\n",
    "a,b=10,20\n",
    "print(a,b)\n",
    "b,a=a,b\n",
    "print(a,b)\n"
   ]
  },
  {
   "cell_type": "code",
   "execution_count": 20,
   "id": "7d1c482c-a525-4df0-a635-116a688eeae1",
   "metadata": {},
   "outputs": [
    {
     "name": "stdout",
     "output_type": "stream",
     "text": [
      "6\n"
     ]
    }
   ],
   "source": [
    "#length of string\n",
    "a='string'\n",
    "print(len(a))"
   ]
  },
  {
   "cell_type": "code",
   "execution_count": 21,
   "id": "dfc65d07-c444-4a1a-85ed-7908d25ee2f8",
   "metadata": {},
   "outputs": [
    {
     "name": "stdout",
     "output_type": "stream",
     "text": [
      "The keywords in python are: \n",
      "['False', 'None', 'True', 'and', 'as', 'assert', 'async', 'await', 'break', 'class', 'continue', 'def', 'del', 'elif', 'else', 'except', 'finally', 'for', 'from', 'global', 'if', 'import', 'in', 'is', 'lambda', 'nonlocal', 'not', 'or', 'pass', 'raise', 'return', 'try', 'while', 'with', 'yield']\n"
     ]
    }
   ],
   "source": [
    "#keyword-reserved words in every language\n",
    "import keyword\n",
    "print(\"The keywords in python are: \")\n",
    "print(keyword.kwlist)"
   ]
  },
  {
   "cell_type": "markdown",
   "id": "bdce17ee-1cfc-44b5-8a72-6be489d9ba17",
   "metadata": {},
   "source": [
    "# Operators in python\n",
    "## 1.arithmetic operator\n",
    "## 2.logical operator\n",
    "## 3.assignment operator\n",
    "## 4.relational operator\n",
    "## 5.membership operator\n",
    "## 6.ternary operator\n",
    "## 7.identity operator\n",
    "## 8.bitwise operator"
   ]
  },
  {
   "cell_type": "code",
   "execution_count": 28,
   "id": "62f7b9d9-93aa-4ed0-b577-dc9cbd4d4ae6",
   "metadata": {},
   "outputs": [
    {
     "name": "stdout",
     "output_type": "stream",
     "text": [
      "3\n",
      "-1\n",
      "2\n",
      "0.5\n",
      "1\n"
     ]
    }
   ],
   "source": [
    "#arithmetic operator\n",
    "a=1\n",
    "b=2\n",
    "c=a+b\n",
    "print(c)\n",
    "c=a-b\n",
    "print(c)\n",
    "c=a*b\n",
    "print(c)\n",
    "c=a/b\n",
    "print(c)\n",
    "c=a**b\n",
    "print(c)"
   ]
  },
  {
   "cell_type": "code",
   "execution_count": null,
   "id": "ec322e1f-411b-4498-b7c9-58bcfd6900a6",
   "metadata": {},
   "outputs": [],
   "source": [
    "#logical operator\n",
    "\n",
    "\n"
   ]
  },
  {
   "cell_type": "code",
   "execution_count": 32,
   "id": "f75fdbb5-3f5f-4657-ab7f-c319e76800c4",
   "metadata": {},
   "outputs": [
    {
     "data": {
      "text/plain": [
       "11"
      ]
     },
     "execution_count": 32,
     "metadata": {},
     "output_type": "execute_result"
    }
   ],
   "source": [
    "#assignment ooperators\n",
    "a=10\n",
    "a+=1\n",
    "a\n"
   ]
  },
  {
   "cell_type": "code",
   "execution_count": 30,
   "id": "c05e7fa9-4378-4b29-9b8c-7152b916fa38",
   "metadata": {},
   "outputs": [
    {
     "data": {
      "text/plain": [
       "12"
      ]
     },
     "execution_count": 30,
     "metadata": {},
     "output_type": "execute_result"
    }
   ],
   "source": [
    "#bitwise operator\n",
    "a=10     1010\n",
    "b=12     1100\n",
    "...............\n",
    "a and b  1000\n",
    "\n",
    "\n",
    "\n"
   ]
  },
  {
   "cell_type": "code",
   "execution_count": null,
   "id": "cb605220-1e99-4e46-a924-dde08f34f360",
   "metadata": {},
   "outputs": [],
   "source": [
    "#relational operator\n",
    "a!=b\n",
    "\n",
    "\n"
   ]
  },
  {
   "cell_type": "code",
   "execution_count": 36,
   "id": "92f8eef9-f59f-4969-bb2b-762df12c7b6f",
   "metadata": {},
   "outputs": [
    {
     "name": "stdout",
     "output_type": "stream",
     "text": [
      "False\n",
      "True\n"
     ]
    }
   ],
   "source": [
    "#identity operator\n",
    "a=10\n",
    "b=20\n",
    "print(a is b)\n",
    "print(a is not b)"
   ]
  },
  {
   "cell_type": "code",
   "execution_count": 43,
   "id": "3c9579bd-9147-4b46-b32a-0b90ee3fa19c",
   "metadata": {},
   "outputs": [
    {
     "name": "stdout",
     "output_type": "stream",
     "text": [
      "a is in list\n",
      "b is not in list\n"
     ]
    }
   ],
   "source": [
    "#membership operator\n",
    "a=1\n",
    "b=6\n",
    "list = [1,2,3,4,5]\n",
    "\n",
    "if(a in list):\n",
    "   print(\"a is in list\")\n",
    "if(b  not in list):\n",
    "   print(\"b is not in list\")\n"
   ]
  },
  {
   "cell_type": "code",
   "execution_count": 50,
   "id": "8fe700f4-2aae-4347-a785-4a3060635f15",
   "metadata": {},
   "outputs": [
    {
     "name": "stdout",
     "output_type": "stream",
     "text": [
      "Minimum=  10\n",
      "Maximum=  20\n"
     ]
    }
   ],
   "source": [
    "#ternary operator\n",
    "a,b=10,20\n",
    "min=a if a<b else b\n",
    "print(\"Minimum= \",min)\n",
    "max=a if a>b else b\n",
    "print(\"Maximum= \",max)"
   ]
  },
  {
   "cell_type": "code",
   "execution_count": 52,
   "id": "e047cace-b4ce-47b0-9b5e-4e15a1e85671",
   "metadata": {},
   "outputs": [
    {
     "name": "stdout",
     "output_type": "stream",
     "text": [
      "83.0\n"
     ]
    }
   ],
   "source": [
    "#operator associativity\n",
    "print(10/2*22+2-29)\n"
   ]
  },
  {
   "cell_type": "markdown",
   "id": "06d9f255-cdcf-4f72-93e8-1931c97bdc8c",
   "metadata": {},
   "source": [
    "## Data types in python\n",
    "### 1.numeric data type\n",
    "### 2.sequential data type\n",
    "### 3.mapping data type\n",
    "### 4.boolean data type\n",
    "### 5.set data type\n",
    "### 6.binary data type\n"
   ]
  },
  {
   "cell_type": "code",
   "execution_count": 60,
   "id": "7230a07c-d93c-4ccf-b231-1e528d126f30",
   "metadata": {},
   "outputs": [
    {
     "name": "stdout",
     "output_type": "stream",
     "text": [
      "(3+4j)\n"
     ]
    }
   ],
   "source": [
    "# 1)numeric data type-int, float, complex\n",
    "#complex data type\n",
    "\n",
    "c=complex(3,4)\n",
    "print(c)\n"
   ]
  },
  {
   "cell_type": "code",
   "execution_count": 72,
   "id": "8b49d46c-c829-4d7f-85dd-996444a4a6b9",
   "metadata": {},
   "outputs": [
    {
     "name": "stdout",
     "output_type": "stream",
     "text": [
      "<class 'str'>\n",
      "second character is ' e '\n",
      "['mia', 'is', 'out']\n",
      "mia\n",
      "out\n",
      "['mia', 'is', 'out']\n",
      "['mia', 'is', 'out', 3]\n",
      "['mia', 'is', 'out']\n"
     ]
    }
   ],
   "source": [
    "# sequential data type-string, list, tuple\n",
    "#string type\n",
    "\n",
    "s='welcome to TEXAS'\n",
    "print(type(s))\n",
    "#for particular character\n",
    "print(\"second character is '\",s[1],\"'\")\n",
    "\n",
    "#list-array like structure\n",
    "a =[\"mia\",\"is\",\"out\"]\n",
    "print(a)\n",
    "print(a[0])\n",
    "print(a[-1])\n",
    "print(a[0:])\n",
    "a.append(3)\n",
    "print(a)\n",
    "a.remove(3)\n",
    "print(a)"
   ]
  },
  {
   "cell_type": "code",
   "execution_count": null,
   "id": "03f2ead8-287d-46fe-bc47-b5ce375d697b",
   "metadata": {},
   "outputs": [],
   "source": [
    "# mapping data type- dict"
   ]
  },
  {
   "cell_type": "code",
   "execution_count": null,
   "id": "1bee2601-0f89-41c9-81eb-fe54cc539dd0",
   "metadata": {},
   "outputs": [],
   "source": [
    "# mapping data type- dict"
   ]
  },
  {
   "cell_type": "code",
   "execution_count": null,
   "id": "502332bb-d826-4d75-8375-635d694d9c3e",
   "metadata": {},
   "outputs": [],
   "source": [
    "# mapping data type- dict"
   ]
  },
  {
   "cell_type": "code",
   "execution_count": null,
   "id": "24a14feb-0d0f-4755-beb1-9e244a83ff14",
   "metadata": {},
   "outputs": [],
   "source": [
    "# mapping data type- dict"
   ]
  },
  {
   "cell_type": "code",
   "execution_count": null,
   "id": "241e332c-857f-408c-b045-c8f2c4bbe7ed",
   "metadata": {},
   "outputs": [],
   "source": [
    "#boolean data type- bool"
   ]
  },
  {
   "cell_type": "code",
   "execution_count": null,
   "id": "722100e7-eb6d-4a0b-966e-c729e24bc3f7",
   "metadata": {},
   "outputs": [],
   "source": [
    "#set data type-set, frozen set"
   ]
  },
  {
   "cell_type": "code",
   "execution_count": null,
   "id": "209c9fea-04a3-44e5-914b-84e96d296788",
   "metadata": {},
   "outputs": [],
   "source": [
    "#binary data type-byte, bytearray, memoryview"
   ]
  },
  {
   "cell_type": "code",
   "execution_count": null,
   "id": "acbd15d3-17b6-4144-9932-62ac072159b5",
   "metadata": {},
   "outputs": [],
   "source": []
  },
  {
   "cell_type": "code",
   "execution_count": null,
   "id": "535580ba-6807-4231-8fa2-d3af7e71c17a",
   "metadata": {},
   "outputs": [],
   "source": []
  }
 ],
 "metadata": {
  "kernelspec": {
   "display_name": "Python 3 (ipykernel)",
   "language": "python",
   "name": "python3"
  },
  "language_info": {
   "codemirror_mode": {
    "name": "ipython",
    "version": 3
   },
   "file_extension": ".py",
   "mimetype": "text/x-python",
   "name": "python",
   "nbconvert_exporter": "python",
   "pygments_lexer": "ipython3",
   "version": "3.12.7"
  }
 },
 "nbformat": 4,
 "nbformat_minor": 5
}
